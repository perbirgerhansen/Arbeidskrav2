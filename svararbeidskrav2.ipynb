{
 "cells": [
  {
   "cell_type": "code",
   "execution_count": null,
   "id": "57374b35-6795-4ba9-9729-aff8a8fc73ed",
   "metadata": {},
   "outputs": [],
   "source": [
    "# Oppgaven er løst i Jupyter / Colab, det er en oppgave i hver celle. Cellene kjører enkeltvis. \n",
    "# Overrasket over hvor gode løsningsforslagene til colab var. \n",
    "\n",
    "\n",
    "\n"
   ]
  },
  {
   "cell_type": "code",
   "execution_count": 1,
   "id": "fce72904-86cc-4481-b72a-95d54ac2f21d",
   "metadata": {},
   "outputs": [
    {
     "name": "stdin",
     "output_type": "stream",
     "text": [
      "Hvilket år er du født?  1968\n"
     ]
    },
    {
     "name": "stdout",
     "output_type": "stream",
     "text": [
      "Du er  56 år gammel\n"
     ]
    }
   ],
   "source": [
    "# oppgave 1\n",
    "\n",
    "# I denne oppgaven skal man taste inn år da regner programmet hvor gammel du blir i løpet av 2024 \n",
    "\n",
    "alder = int(input('Hvilket år er du født? '))\n",
    "aar = 2024\n",
    "print('Du er ', aar - alder, 'år gammel')\n"
   ]
  },
  {
   "cell_type": "code",
   "execution_count": 3,
   "id": "a9ec648d-733a-4278-8909-f1f84c5fc0f8",
   "metadata": {},
   "outputs": [
    {
     "name": "stdin",
     "output_type": "stream",
     "text": [
      "Skriv inn antall elever: 15\n"
     ]
    },
    {
     "name": "stdout",
     "output_type": "stream",
     "text": [
      "Antall pizzar man må bestille er 4\n"
     ]
    }
   ],
   "source": [
    "# oppgave 2\n",
    "import math\n",
    "\n",
    "# I denne oppgaven skal man skrive inn antall elever, programmet regner da ut hvor mange pizzaer man må bestille \n",
    "\n",
    "antall_elever = int(input('Skriv inn antall elever:' ))\n",
    "\n",
    "# En elev spiser 1/4 av en hel pizza\n",
    "antall_deler = antall_elever / 4\n",
    "# Funksjon math.ceil runder opp til nærmeste hele \n",
    "deler_rundet_opp = math.ceil(antall_deler)\n",
    "\n",
    "print ('Antall pizzar man må bestille er', deler_rundet_opp)"
   ]
  },
  {
   "cell_type": "code",
   "execution_count": 5,
   "id": "7a7b15b6-af2a-44b1-ae83-3d59479b1466",
   "metadata": {},
   "outputs": [
    {
     "name": "stdin",
     "output_type": "stream",
     "text": [
      "Skriv inn gradtallet: 45\n"
     ]
    },
    {
     "name": "stdout",
     "output_type": "stream",
     "text": [
      "Vinkelens Radian er: 0.79\n"
     ]
    }
   ],
   "source": [
    "# oppgave 3\n",
    "\n",
    "# Kode som regner om fra grader til radianer\n",
    "\n",
    "import numpy as np\n",
    "\n",
    "def vinkler(v_grad):\n",
    "    v_rad = v_grad*np.pi/180 #formel for å regne ut Radian\n",
    "    return v_rad\n",
    "\n",
    "# Oppgi grader \n",
    "v_grad = float(input('Skriv inn gradtallet:' ))\n",
    "\n",
    "# Regner om fra grader til radianer ved å benytte funksjonen vinkler\n",
    "v_rad = vinkler(v_grad)\n",
    "print(\"Vinkelens Radian er:\", round(v_rad,2 ))"
   ]
  },
  {
   "cell_type": "code",
   "execution_count": 7,
   "id": "99a761b6-6225-4c0a-864c-e6810e958047",
   "metadata": {},
   "outputs": [
    {
     "name": "stdin",
     "output_type": "stream",
     "text": [
      "Skriv inn land: Island\n"
     ]
    },
    {
     "name": "stdout",
     "output_type": "stream",
     "text": [
      "Island finnes ikke i dictionary\n"
     ]
    }
   ],
   "source": [
    "# oppgave 4a og b\n",
    "\n",
    "#  Dictionary med land\n",
    "data = {\n",
    "\t\"Norge\" : [\"Oslo\", 0.634],\n",
    "\t\"England\" : [\"London\", 8.982],\n",
    "\t\"Frankrike\" : [\"Paris\", 2.161],\n",
    "\t\"Italia\" : [\"Roma\", 2.873]\n",
    "\t}\n",
    "\n",
    "land = input(\"Skriv inn land:\" )\n",
    "\n",
    "# if setning om landet er i dictionary eller ikke\n",
    "if land in data:\n",
    "    hovedstad, innbyggere = data[land]\n",
    "\t\t\n",
    "    print(hovedstad, \"er hovedstaden i\", land, \"og det er\", innbyggere , \"mill i\", hovedstad)\n",
    "else:\n",
    "    print(f\"{land} finnes ikke i dictionary\")\n",
    "    "
   ]
  },
  {
   "cell_type": "code",
   "execution_count": 9,
   "id": "f5b7a54b-5659-4396-bd50-57ec32c54c44",
   "metadata": {},
   "outputs": [
    {
     "name": "stdin",
     "output_type": "stream",
     "text": [
      "Skriv inn land:  egypt\n",
      "Skriv inn navnet på hovedstaden:  Kairo\n",
      "Skriv inn antall innbyggere:  9.0\n"
     ]
    },
    {
     "name": "stdout",
     "output_type": "stream",
     "text": [
      "          Hovedstad  Innbyggere\n",
      "Norge          Oslo       0.634\n",
      "England      London       8.982\n",
      "Frankrike     Paris       2.161\n",
      "Italia         Roma       2.873\n",
      "egypt         Kairo       9.000\n"
     ]
    }
   ],
   "source": [
    "#oppgave 4c\n",
    "\n",
    "# har valgt å importere pandas for å få litt bedre utseende på tabellen/dictionary\n",
    "import pandas as pd\n",
    "\n",
    "#  Dictionary med land\n",
    "data = {\n",
    "    \"Norge\": [\"Oslo\", 0.634],\n",
    "    \"England\": [\"London\", 8.982],\n",
    "    \"Frankrike\": [\"Paris\", 2.161],\n",
    "    \"Italia\": [\"Roma\", 2.873]\n",
    "}\n",
    "\n",
    "land = input(\"Skriv inn land: \")\n",
    "\n",
    "# if setning om landet er i dictionary eller ikke, hvis det ikke finnes legges det inn i dictionary\n",
    "if land in data:\n",
    "    print(f\"{land} finnes i dictionary\")\n",
    "else:\n",
    "    hovedstad = input(f\"Skriv inn navnet på hovedstaden: \")\n",
    "    antallinbyggere = input(f\"Skriv inn antall innbyggere: \")\n",
    "    data[land] = [hovedstad, float(antallinbyggere)]\n",
    "    utsende = pd.DataFrame.from_dict(data, orient='index', columns=[\"Hovedstad\", \"Innbyggere\"])\n",
    "    print(utsende)\n"
   ]
  },
  {
   "cell_type": "code",
   "execution_count": 11,
   "id": "2f6b0719-0eee-4955-87c7-af06628bd61b",
   "metadata": {},
   "outputs": [
    {
     "name": "stdin",
     "output_type": "stream",
     "text": [
      "skriv inn diameter av halvsirkel a:  5\n",
      "skriv inn lengden på trekanten b:  10\n"
     ]
    },
    {
     "name": "stdout",
     "output_type": "stream",
     "text": [
      "arealene av begge figurene slåttsammen er 34.82\n",
      "omkrets av begge figurene slåttsammen er 34.03\n"
     ]
    }
   ],
   "source": [
    "#oppgave 5\n",
    "\n",
    "import math\n",
    "\n",
    "\n",
    "# funksjon sirkel med formel for utregning av omkrets og areal. Vi ber bruker legge inn diameter iht. oppgave.\n",
    "# vi deler på 2 siden vi kun skal ha halve sirkelen\n",
    "def sirkel (d):\n",
    "\n",
    "    sirkelomkr = math.pi * d / 2\n",
    "    sirkelareal = math.pi / 4 * d * d /2\n",
    "\n",
    "    return sirkelomkr, sirkelareal\n",
    "\n",
    "# legger inn verdien av diameter på sirkel\n",
    "d = float(input(\"skriv inn diameter av halvsirkel a: \"))\n",
    "sirkelomkr, sirkelareal = sirkel(d)\n",
    "\n",
    "# #Her printer svarene på sirkelen, denne har vi remet ut, men latt stå hvis behov for feilsøking \n",
    "#print(\"areal av halvsirkel =\", round(sirkelareal, 2))\n",
    "#print(\"omkrets av halvsirkel=\", round(sirkelomkr, 2))\n",
    "\n",
    "# funksjon trekant med formel for å utregning av omkrets og areal. Vi ber bruker legge inn side b iht. oppgave.\n",
    "# oppgaven spør om alle 3 sidene i trekanten skal være med, vi benytter formel og taster inn kun 2 sider.\n",
    "def trekant(a, b):\n",
    "\n",
    "    areal_trekant =  (a*b) /2\n",
    "    omkrets_trekant = a + b + math.sqrt(a*a + b*b)\n",
    "    return areal_trekant, omkrets_trekant\n",
    "\n",
    "#a=float(input(\"skriv inn a\" ))\n",
    "a= d\n",
    "b=float(input(\"skriv inn lengden på trekanten b: \"))\n",
    "areal_trekant, omkrets_trekant = trekant(a, b)\n",
    "\n",
    "#Her printer svarene på trekanten, denne har vi remet ut, men latt stå hvis behov for feilsøking\n",
    "#print(\"areal av trekant =\" , round(areal_trekant, 2))\n",
    "#print(\"omkrets av trekant =\" , round(omkrets_trekant, 2))\n",
    "\n",
    "print(\"arealene av begge figurene slåttsammen er\", round(sirkelareal + areal_trekant, 2))\n",
    "print(\"omkrets av begge figurene slåttsammen er\", round(sirkelomkr + omkrets_trekant, 2))"
   ]
  },
  {
   "cell_type": "code",
   "execution_count": 13,
   "id": "70b05140-6bf8-4ec4-a73b-863fe3cea382",
   "metadata": {},
   "outputs": [
    {
     "data": {
      "text/plain": [
       "Text(0, 0.5, 'f(x)')"
      ]
     },
     "execution_count": 13,
     "metadata": {},
     "output_type": "execute_result"
    },
    {
     "data": {
      "image/png": "[encoded data removed]",
      "text/plain": [
       "<Figure size 640x480 with 1 Axes>"
      ]
     },
     "metadata": {},
     "output_type": "display_data"
    }
   ],
   "source": [
    "# oppgave6\n",
    "import numpy as np\n",
    "import matplotlib.pyplot as plt\n",
    "\n",
    "# x verdier \n",
    "x = np.linspace(-10, 10, 200)\n",
    "\n",
    "# y(f(x) verdier \n",
    "y = -x**2 - 5 \n",
    "\n",
    "#Plot med rød farge\n",
    "plt.plot(x, y, color='red')\n",
    "plt.xlabel('X')\n",
    "plt.ylabel('f(x)')\n"
   ]
  },
  {
   "cell_type": "code",
   "execution_count": null,
   "id": "51c2f71e-f926-441b-8545-378cf7bfe588",
   "metadata": {},
   "outputs": [],
   "source": []
  }
 ],
 "metadata": {
  "kernelspec": {
   "display_name": "Python 3 (ipykernel)",
   "language": "python",
   "name": "python3"
  },
  "language_info": {
   "codemirror_mode": {
    "name": "ipython",
    "version": 3
   },
   "file_extension": ".py",
   "mimetype": "text/x-python",
   "name": "python",
   "nbconvert_exporter": "python",
   "pygments_lexer": "ipython3",
   "version": "3.12.4"
  }
 },
 "nbformat": 4,
 "nbformat_minor": 5
}
